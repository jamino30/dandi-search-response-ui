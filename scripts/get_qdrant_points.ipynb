{
 "cells": [
  {
   "cell_type": "markdown",
   "metadata": {},
   "source": [
    "### Prepare Dandi Archive metadata for Qdrant vector embeddings\n",
    "\n",
    "- Customize the Dandiset blacklist as needed\n",
    "- Run the script to filter and process Dandiset metadata"
   ]
  },
  {
   "cell_type": "code",
   "execution_count": 2,
   "metadata": {},
   "outputs": [
    {
     "name": "stderr",
     "output_type": "stream",
     "text": [
      "A newer version (0.58.0) of dandi/dandi-cli is available. You are using 0.56.2\n"
     ]
    },
    {
     "name": "stdout",
     "output_type": "stream",
     "text": [
      "START: Number of items: 174\n",
      "REMOVED -- 000027: Test dataset for testing dandi-cli.\n",
      "REMOVED -- 000029: Test dataset for development purposes\n",
      "REMOVED -- 000126: NWB API Test Data\n",
      "REMOVED -- 000299: Stephen Test Set\n",
      "REMOVED -- 000411: test\n",
      "REMOVED -- 000470: Test\n",
      "REMOVED -- 000482: State-dependent processing in visual cortex\n",
      "REMOVED -- 000529: Test 2\n",
      "REMOVED -- 000544: Test Dataset\n",
      "REMOVED -- 000545: Test set\n",
      "NOTE: 1 blacklisted dandiset(s) not removed.\n",
      "END: Number of items: 164\n"
     ]
    }
   ],
   "source": [
    "# -----------------------------\n",
    "\n",
    "dandiset_blacklist = [\n",
    "    \"000545\",\n",
    "    \"000470\",\n",
    "    \"000411\",\n",
    "    \"000529\",\n",
    "    \"000299\",\n",
    "    \"000029\",\n",
    "    \"000027\",\n",
    "    \"000126\",\n",
    "    \"000544\",\n",
    "    \"000482\",\n",
    "    \"000068\",\n",
    "]\n",
    "\n",
    "# -----------------------------\n",
    "\n",
    "import sys\n",
    "import os\n",
    "\n",
    "notebook_path = os.path.abspath('.')\n",
    "sys.path.append(os.path.join(notebook_path, '..'))\n",
    "\n",
    "from rest.clients.dandi import DandiClient\n",
    "from rest.clients.openai import OpenaiClient\n",
    "\n",
    "dandi_client = DandiClient()\n",
    "openai_client = OpenaiClient()\n",
    "\n",
    "all_metadata = dandi_client.get_all_dandisets_metadata()\n",
    "all_metadata_formatted: list[dict] = dandi_client.collect_relevant_metadata(metadata_list=all_metadata)\n",
    "print(\"START: Number of items:\", len(all_metadata_formatted))\n",
    "\n",
    "filtered_all_metadata_formatted = []\n",
    "for i, dandiset in enumerate(all_metadata_formatted):\n",
    "    if not any(item in str(dandiset[\"dandiset_id\"]).split(\":\")[-1] for item in dandiset_blacklist):\n",
    "        filtered_all_metadata_formatted.append(dandiset)\n",
    "    else:\n",
    "        print(f\"REMOVED -- {dandiset['dandiset_id']}: {dandiset['title']}\")\n",
    "\n",
    "num_not_removed = len(dandiset_blacklist) - (len(all_metadata_formatted) - len(filtered_all_metadata_formatted))\n",
    "if num_not_removed:\n",
    "    print(f\"NOTE: {num_not_removed} blacklisted dandiset(s) not removed.\")\n",
    "\n",
    "print(\"END: Number of items:\", len(filtered_all_metadata_formatted))"
   ]
  },
  {
   "cell_type": "markdown",
   "metadata": {},
   "source": [
    "### Overwrite current Qdrant points in `data/qdrant_points.json`\n",
    "\n",
    "- Make sure to run the previous script to filter Dandiset metadata before running this script\n",
    "- Run the script to retrieve embeddings and save them to `data/qdrant_points.json`."
   ]
  },
  {
   "cell_type": "code",
   "execution_count": 4,
   "metadata": {},
   "outputs": [
    {
     "ename": "FileNotFoundError",
     "evalue": "[Errno 2] No such file or directory: '/Users/jai/data/qdrant_points.json'",
     "output_type": "error",
     "traceback": [
      "\u001b[0;31m---------------------------------------------------------------------------\u001b[0m",
      "\u001b[0;31mFileNotFoundError\u001b[0m                         Traceback (most recent call last)",
      "\u001b[1;32m/Users/jai/dandi-search-response-ui/scripts/get_qdrant_points.ipynb Cell 4\u001b[0m line \u001b[0;36m2\n\u001b[1;32m      <a href='vscode-notebook-cell:/Users/jai/dandi-search-response-ui/scripts/get_qdrant_points.ipynb#W3sZmlsZQ%3D%3D?line=0'>1</a>\u001b[0m \u001b[39m# overwrite qdrant_points.json\u001b[39;00m\n\u001b[0;32m----> <a href='vscode-notebook-cell:/Users/jai/dandi-search-response-ui/scripts/get_qdrant_points.ipynb#W3sZmlsZQ%3D%3D?line=1'>2</a>\u001b[0m emb \u001b[39m=\u001b[39m openai_client\u001b[39m.\u001b[39;49mget_embeddings(\n\u001b[1;32m      <a href='vscode-notebook-cell:/Users/jai/dandi-search-response-ui/scripts/get_qdrant_points.ipynb#W3sZmlsZQ%3D%3D?line=2'>3</a>\u001b[0m     metadata_list\u001b[39m=\u001b[39;49mfiltered_all_metadata_formatted,\n\u001b[1;32m      <a href='vscode-notebook-cell:/Users/jai/dandi-search-response-ui/scripts/get_qdrant_points.ipynb#W3sZmlsZQ%3D%3D?line=3'>4</a>\u001b[0m     save_to_file\u001b[39m=\u001b[39;49m\u001b[39mTrue\u001b[39;49;00m\n\u001b[1;32m      <a href='vscode-notebook-cell:/Users/jai/dandi-search-response-ui/scripts/get_qdrant_points.ipynb#W3sZmlsZQ%3D%3D?line=4'>5</a>\u001b[0m )\n\u001b[1;32m      <a href='vscode-notebook-cell:/Users/jai/dandi-search-response-ui/scripts/get_qdrant_points.ipynb#W3sZmlsZQ%3D%3D?line=5'>6</a>\u001b[0m \u001b[39mprint\u001b[39m(\u001b[39m\"\u001b[39m\u001b[39mNumber of emb items:\u001b[39m\u001b[39m\"\u001b[39m, \u001b[39mlen\u001b[39m(emb))\n",
      "File \u001b[0;32m~/dandi-search-response-ui/scripts/../rest/clients/openai.py:46\u001b[0m, in \u001b[0;36mOpenaiClient.get_embeddings\u001b[0;34m(self, metadata_list, max_num_sets, save_to_file)\u001b[0m\n\u001b[1;32m     38\u001b[0m qdrant_points \u001b[39m=\u001b[39m [\n\u001b[1;32m     39\u001b[0m     {\n\u001b[1;32m     40\u001b[0m         \u001b[39m\"\u001b[39m\u001b[39mid\u001b[39m\u001b[39m\"\u001b[39m: \u001b[39mstr\u001b[39m(uuid\u001b[39m.\u001b[39muuid4()),\n\u001b[0;32m   (...)\u001b[0m\n\u001b[1;32m     43\u001b[0m     } \u001b[39mfor\u001b[39;00m i, emb \u001b[39min\u001b[39;00m \u001b[39menumerate\u001b[39m(embeddings)\n\u001b[1;32m     44\u001b[0m ]\n\u001b[1;32m     45\u001b[0m \u001b[39mif\u001b[39;00m save_to_file \u001b[39mand\u001b[39;00m \u001b[39mlen\u001b[39m(qdrant_points) \u001b[39m>\u001b[39m \u001b[39m0\u001b[39m:\n\u001b[0;32m---> 46\u001b[0m     \u001b[39mwith\u001b[39;00m \u001b[39mopen\u001b[39;49m(\u001b[39mstr\u001b[39;49m(Path\u001b[39m.\u001b[39;49mcwd()\u001b[39m.\u001b[39;49mparent\u001b[39m.\u001b[39;49mparent \u001b[39m/\u001b[39;49m \u001b[39m\"\u001b[39;49m\u001b[39mdata\u001b[39;49m\u001b[39m\"\u001b[39;49m \u001b[39m/\u001b[39;49m \u001b[39m\"\u001b[39;49m\u001b[39mqdrant_points.json\u001b[39;49m\u001b[39m\"\u001b[39;49m), \u001b[39m\"\u001b[39;49m\u001b[39mw\u001b[39;49m\u001b[39m\"\u001b[39;49m) \u001b[39mas\u001b[39;00m f:\n\u001b[1;32m     47\u001b[0m         json\u001b[39m.\u001b[39mdump(qdrant_points, f)\n\u001b[1;32m     48\u001b[0m \u001b[39mreturn\u001b[39;00m qdrant_points\n",
      "\u001b[0;31mFileNotFoundError\u001b[0m: [Errno 2] No such file or directory: '/Users/jai/data/qdrant_points.json'"
     ]
    }
   ],
   "source": [
    "# overwrite qdrant_points.json\n",
    "emb = openai_client.get_embeddings(\n",
    "    metadata_list=filtered_all_metadata_formatted,\n",
    "    save_to_file=True\n",
    ")\n",
    "print(\"Number of emb items:\", len(emb))"
   ]
  }
 ],
 "metadata": {
  "kernelspec": {
   "display_name": "dandivenv",
   "language": "python",
   "name": "python3"
  },
  "language_info": {
   "codemirror_mode": {
    "name": "ipython",
    "version": 3
   },
   "file_extension": ".py",
   "mimetype": "text/x-python",
   "name": "python",
   "nbconvert_exporter": "python",
   "pygments_lexer": "ipython3",
   "version": "3.11.6"
  }
 },
 "nbformat": 4,
 "nbformat_minor": 2
}
