{
 "cells": [
  {
   "cell_type": "markdown",
   "metadata": {},
   "source": [
    "## Deal with quantitative queries on Dandi Search"
   ]
  },
  {
   "cell_type": "code",
   "execution_count": 1,
   "metadata": {},
   "outputs": [],
   "source": [
    "# Basic: Deal with finding dandisets with 2 or more species. Filter via Qdrnat api\n",
    "from qdrant_client import QdrantClient as Qdrant\n",
    "from qdrant_client.models import models\n",
    "import os\n",
    "\n",
    "# ---------------------\n",
    "\n",
    "QUERY = \"Are there any dandisets that contain no more than 2 species?\"\n",
    "\n",
    "#Ex: Which dandisets have more than X subjects/neurons from brain region Y?\n",
    "#Ex: Show me dandisets with the most species.\n",
    "\n",
    "# ---------------------\n"
   ]
  },
  {
   "cell_type": "code",
   "execution_count": 8,
   "metadata": {},
   "outputs": [
    {
     "name": "stderr",
     "output_type": "stream",
     "text": [
      "/Users/jai/dandi-search-response-ui/dandivenv/lib/python3.11/site-packages/langchain/llms/openai.py:811: UserWarning: You are trying to use a chat model. This way of initializing it is no longer supported. Instead, please use: `from langchain.chat_models import ChatOpenAI`\n",
      "  warnings.warn(\n"
     ]
    },
    {
     "name": "stdout",
     "output_type": "stream",
     "text": [
      "{'number_of_asset': 2, 'asset_type': 'species', 'comparison_op': '>='}\n"
     ]
    }
   ],
   "source": [
    "# Approach #1: LLM\n",
    "from langchain.llms.openai import OpenAIChat\n",
    "import json\n",
    "\n",
    "template = \"\"\"\n",
    "Your task is to extract a numerical value that represents a specific asset along with the asset type itself from a given user query.\n",
    "An asset type can only be one of: species, approach, variables_measured, measurement_technique.\n",
    "Choose a comparison operator that best represents the number of assets to be found, specify it with one of: >=, >, <, <= or ==\n",
    "\n",
    "JSON Output Format:\n",
    "- 'number_of_asset': [int - numerical value],\n",
    "- 'asset_type': [string - type of asset]\n",
    "- 'comparison_op': [string - type of comparison operator]\n",
    "\n",
    "USER QUERY:\n",
    "{}\n",
    "\"\"\".format(QUERY)\n",
    "\n",
    "llm = OpenAIChat(model_name=\"gpt-3.5-turbo\", max_tokens=200, temperature=0)\n",
    "response = llm(template)\n",
    "response_json = json.loads(response)\n",
    "print(response_json)"
   ]
  },
  {
   "cell_type": "code",
   "execution_count": 17,
   "metadata": {},
   "outputs": [
    {
     "name": "stdout",
     "output_type": "stream",
     "text": [
      "DANDI:000636/draft\n",
      "- Human\n",
      "- Homo sapiens - Human\n",
      "\n",
      "\n",
      "DANDI:000212/draft\n",
      "- Drosophila melanogaster - Fruit fly\n",
      "- Drosophila suzukii\n",
      "\n",
      "\n",
      "DANDI:000398/0.221208.1803\n",
      "- Mus musculus - House mouse\n",
      "- Rattus norvegicus - Norway rat\n",
      "\n",
      "\n",
      "DANDI:000628/0.230922.1642\n",
      "- Macaca mulatta - Rhesus monkey\n",
      "- Macaca nemestrina - Pigtail macaque\n",
      "\n",
      "\n",
      "DANDI:000341/draft\n",
      "- Rattus norvegicus - Norway rat\n",
      "- Homo sapiens - Human\n",
      "- Mus musculus - House mouse\n",
      "\n",
      "\n",
      "DANDI:000630/0.230915.2257\n",
      "- Human\n",
      "- Homo sapiens - Human\n",
      "\n",
      "\n",
      "DANDI:000043/draft\n",
      "- House mouse\n",
      "- Human\n",
      "- Rhesus monkey\n",
      "\n",
      "\n"
     ]
    }
   ],
   "source": [
    "import sys\n",
    "\n",
    "# qdrant client\n",
    "qdrant_client = Qdrant(\n",
    "    location=\"https://906c3b3f-d3ff-4497-905f-2d7089487cf9.us-east4-0.gcp.cloud.qdrant.io\", \n",
    "    port=\"6333\",\n",
    "    api_key=os.environ.get(\"QDRANT_API_KEY\"),\n",
    ")\n",
    "\n",
    "# filter\n",
    "num_asset: int = response_json.get(\"number_of_asset\", None)\n",
    "asset_type: str = response_json.get(\"asset_type\", None)\n",
    "comparison_op: str = response_json.get(\"comparison_op\", None)\n",
    "\n",
    "if not num_asset or not asset_type:\n",
    "    print(\"Values not found.\")\n",
    "    sys.exit(0)\n",
    "if not comparison_op:\n",
    "    # default to exact value\n",
    "    comparison_op = \"==\"\n",
    "\n",
    "# determine asset type\n",
    "if asset_type == \"species\":\n",
    "    key = \"number_of_species\"\n",
    "elif asset_type == \"approach\":\n",
    "    key = \"number_of_approaches\"\n",
    "elif asset_type == \"variables_measured\":\n",
    "    key = \"number_of_variables_measured\"\n",
    "elif asset_type == \"measurement_techniques\":\n",
    "    key = \"number_of_measurement_techniques\"\n",
    "else:\n",
    "    key = None\n",
    "if not key:\n",
    "    print(\"Valid key not found\")\n",
    "    sys.exit(0)\n",
    "\n",
    "# determine comparison opeartor\n",
    "if comparison_op == \"==\":\n",
    "    match = models.MatchValue(value=num_asset)\n",
    "elif comparison_op == \">=\":\n",
    "    match = models.MatchAny(any=list(range(num_asset, 151)))\n",
    "elif comparison_op == \">\":\n",
    "    match = models.MatchAny(any=list(range(num_asset + 1, 151)))\n",
    "elif comparison_op == \"<=\":\n",
    "    match = models.MatchAny(any=list(range(0, num_asset + 1)))\n",
    "elif comparison_op == \"<\":\n",
    "    match = models.MatchAny(any=list(range(0, num_asset)))\n",
    "else:\n",
    "    match = None\n",
    "\n",
    "# qdrant filter\n",
    "filter = models.Filter(must=[models.FieldCondition(key=key, match=match)])\n",
    "\n",
    "# query similar results based on filter\n",
    "docs = qdrant_client.scroll(\"dandi_collection_ada002\", scroll_filter=filter, limit=100, with_vectors=False, with_payload=True)[0]\n",
    "if not docs:\n",
    "    print(\"No relevant dandisets found.\")\n",
    "else:\n",
    "    for doc in docs:\n",
    "        pl = doc.payload\n",
    "        print(f\"DANDI:{pl['dandiset_id']}/{pl['dandiset_version']}\")\n",
    "        for item in pl[\"species\"]:\n",
    "            print(f\"- {item}\")\n",
    "        print(\"\\n\")"
   ]
  }
 ],
 "metadata": {
  "kernelspec": {
   "display_name": "dandivenv",
   "language": "python",
   "name": "python3"
  },
  "language_info": {
   "codemirror_mode": {
    "name": "ipython",
    "version": 3
   },
   "file_extension": ".py",
   "mimetype": "text/x-python",
   "name": "python",
   "nbconvert_exporter": "python",
   "pygments_lexer": "ipython3",
   "version": "3.11.6"
  }
 },
 "nbformat": 4,
 "nbformat_minor": 2
}
