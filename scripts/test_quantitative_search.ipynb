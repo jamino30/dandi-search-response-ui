{
 "cells": [
  {
   "cell_type": "markdown",
   "metadata": {},
   "source": [
    "## Deal with (one or relational) quantitative queries on Dandi Search"
   ]
  },
  {
   "cell_type": "code",
   "execution_count": 24,
   "metadata": {},
   "outputs": [],
   "source": [
    "# Basic: Deal with finding dandisets with 2 or more species. Filter via Qdrnat api\n",
    "from qdrant_client import QdrantClient as Qdrant\n",
    "from qdrant_client.models import models\n",
    "import os\n",
    "\n",
    "# ---------------------\n",
    "\n",
    "QUERY = \"Are there dandisets that contain 2 or more species and exactly 1 measurement?\"\n",
    "\n",
    "# ---------------------\n"
   ]
  },
  {
   "cell_type": "code",
   "execution_count": 25,
   "metadata": {},
   "outputs": [
    {
     "name": "stderr",
     "output_type": "stream",
     "text": [
      "/Users/jai/dandi-search-response-ui/dandivenv/lib/python3.11/site-packages/langchain/llms/openai.py:811: UserWarning: You are trying to use a chat model. This way of initializing it is no longer supported. Instead, please use: `from langchain.chat_models import ChatOpenAI`\n",
      "  warnings.warn(\n"
     ]
    },
    {
     "name": "stdout",
     "output_type": "stream",
     "text": [
      "[{'number_of_assets': 2, 'asset_type': 'species', 'comparison_op': '>='}, {'number_of_assets': 1, 'asset_type': 'measurement_techniques', 'comparison_op': '=='}]\n"
     ]
    }
   ],
   "source": [
    "# Approach #1: LLM\n",
    "from langchain.llms.openai import OpenAIChat\n",
    "import json\n",
    "\n",
    "SPECIES = \"species\"\n",
    "SCIENTIFIC_APPROACHES = \"scientific_approaches\"\n",
    "VARIABLES_MEASURED = \"varirables_measured\"\n",
    "MEASUREMENT_TECHNIQUES = \"measurement_techniques\"\n",
    "\n",
    "template = \"\"\"\n",
    "OBJECTIVE: \n",
    "Extract a numerical value and its corresponding asset type from a user query. \n",
    "The asset type must be one of the following: {}, {}, {}, or {}. \n",
    "If multiple numerical value and asset type pairs are identified, generate a list of triplets, each containing the numerical value, asset type, and comparison operator. \n",
    "The comparison operator (>=, >, <, <=, or ==) should best represent the number of assets to be retrieved. \n",
    "If either the numerical value or asset type is missing, do not create a triplet for that instance.\n",
    "\n",
    "DESIRED OUTPUT FORMAT (python list of triplets):\n",
    "- \"number_of_assets\": [int - numerical value],\n",
    "- \"asset_type\": [string - type of asset],\n",
    "- \"comparison_op\": [string - type of comparison operator]\n",
    "\n",
    "USER QUERY:\n",
    "{}\n",
    "\"\"\".format(SPECIES, SCIENTIFIC_APPROACHES, VARIABLES_MEASURED, MEASUREMENT_TECHNIQUES, QUERY)\n",
    "\n",
    "llm = OpenAIChat(model_name=\"gpt-3.5-turbo\", max_tokens=200, temperature=0)\n",
    "response = llm(template)\n",
    "response_json = json.loads(response)\n",
    "print(response_json)"
   ]
  },
  {
   "cell_type": "code",
   "execution_count": 26,
   "metadata": {},
   "outputs": [
    {
     "name": "stdout",
     "output_type": "stream",
     "text": [
      "QUERY: Are there dandisets that contain 2 or more species and exactly 1 measurement?\n",
      "-----\n",
      "DANDI:000341/draft\n",
      "- Species (3): Rattus norvegicus - Norway rat, Homo sapiens - Human, Mus musculus - House mouse\n",
      "- Approaches (1): electrophysiological approach\n",
      "- Measurement Techniques (1): current clamp technique\n",
      "- Variables Measured (2): CurrentClampStimulusSeries, CurrentClampSeries\n"
     ]
    }
   ],
   "source": [
    "import sys\n",
    "\n",
    "if not response_json:\n",
    "    print(\"No quantitive extractions found.\")\n",
    "    sys.exit(0)\n",
    "\n",
    "# qdrant client\n",
    "qdrant_client = Qdrant(\n",
    "    location=\"https://906c3b3f-d3ff-4497-905f-2d7089487cf9.us-east4-0.gcp.cloud.qdrant.io\", \n",
    "    port=\"6333\",\n",
    "    api_key=os.environ.get(\"QDRANT_API_KEY\"),\n",
    ")\n",
    "\n",
    "# determine asset type\n",
    "def get_filter_key(asset_type: str):\n",
    "    if asset_type == SPECIES:\n",
    "        key = \"number_of_species\"\n",
    "    elif asset_type == SCIENTIFIC_APPROACHES:\n",
    "        key = \"number_of_approaches\"\n",
    "    elif asset_type == VARIABLES_MEASURED:\n",
    "        key = \"number_of_variables_measured\"\n",
    "    elif asset_type == MEASUREMENT_TECHNIQUES:\n",
    "        key = \"number_of_measurement_techniques\"\n",
    "    else:\n",
    "        key = None\n",
    "    return key\n",
    "\n",
    "# determine comparison operator\n",
    "def get_filter_match(comparison_op: str, num_asset: int):\n",
    "    if comparison_op == \"==\":\n",
    "        match = models.MatchValue(value=num_asset)\n",
    "    elif comparison_op == \">=\":\n",
    "        match = models.MatchAny(any=list(range(num_asset, 151)))\n",
    "    elif comparison_op == \">\":\n",
    "        match = models.MatchAny(any=list(range(num_asset + 1, 151)))\n",
    "    elif comparison_op == \"<=\":\n",
    "        match = models.MatchAny(any=list(range(0, num_asset + 1)))\n",
    "    elif comparison_op == \"<\":\n",
    "        match = models.MatchAny(any=list(range(0, num_asset)))\n",
    "    else:\n",
    "        match = None\n",
    "    return match\n",
    "\n",
    "# get matches\n",
    "matches = []\n",
    "for i, extraction in enumerate(response_json):\n",
    "    asset_type = extraction.get(\"asset_type\", None)\n",
    "    number_of_assets = extraction.get(\"number_of_assets\", None)\n",
    "    comparison_op = extraction.get(\"comparison_op\", None)\n",
    "    if not asset_type or not number_of_assets or not comparison_op:\n",
    "        print(f\"Triplet #{i} skipped (due to None value).\")\n",
    "        continue\n",
    "\n",
    "    key = get_filter_key(asset_type=asset_type)\n",
    "    match = get_filter_match(comparison_op=comparison_op, num_asset=number_of_assets)\n",
    "\n",
    "    matches.append(models.FieldCondition(\n",
    "        key=key,\n",
    "        match=match\n",
    "    ))\n",
    "\n",
    "# qdrant filter\n",
    "filter = models.Filter(must=matches)\n",
    "\n",
    "# query similar results based on filter\n",
    "docs = qdrant_client.scroll(\"dandi_collection_ada002\", scroll_filter=filter, limit=10, with_vectors=False, with_payload=True)[0]\n",
    "print(\"QUERY:\", QUERY)\n",
    "print(\"-----\")\n",
    "if not docs:\n",
    "    print(\"No relevant dandisets found.\")\n",
    "else:\n",
    "    for doc in docs:\n",
    "        pl = doc.payload\n",
    "        print(f\"DANDI:{pl['dandiset_id']}/{pl['dandiset_version']}\")\n",
    "        print(f\"- Species ({pl['number_of_species']}):\", \", \".join(pl[\"species\"]))\n",
    "        print(f\"- Approaches ({pl['number_of_approaches']}):\", \", \".join(pl[\"approaches\"]))\n",
    "        print(f\"- Measurement Techniques ({pl['number_of_measurement_techniques']}):\", \", \".join(pl[\"measurement_techniques\"]))\n",
    "        print(f\"- Variables Measured ({pl['number_of_variables_measured']}):\", \", \".join(pl[\"variables_measured\"]))"
   ]
  }
 ],
 "metadata": {
  "kernelspec": {
   "display_name": "dandivenv",
   "language": "python",
   "name": "python3"
  },
  "language_info": {
   "codemirror_mode": {
    "name": "ipython",
    "version": 3
   },
   "file_extension": ".py",
   "mimetype": "text/x-python",
   "name": "python",
   "nbconvert_exporter": "python",
   "pygments_lexer": "ipython3",
   "version": "3.11.6"
  }
 },
 "nbformat": 4,
 "nbformat_minor": 2
}
