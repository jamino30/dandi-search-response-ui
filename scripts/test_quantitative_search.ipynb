{
 "cells": [
  {
   "cell_type": "markdown",
   "metadata": {},
   "source": [
    "## Deal with (one or relational) quantitative queries on Dandi Search"
   ]
  },
  {
   "cell_type": "code",
   "execution_count": 8,
   "metadata": {},
   "outputs": [],
   "source": [
    "# Basic: Deal with finding dandisets with 2 or more species. Filter via Qdrnat api\n",
    "from qdrant_client import QdrantClient as Qdrant\n",
    "from qdrant_client.models import models\n",
    "import os\n",
    "\n",
    "# ---------------------\n",
    "\n",
    "QUERY = \"Are there dandisets that contain 2 or more species and exactly 1 measurement?\"\n",
    "\n",
    "# ---------------------\n"
   ]
  },
  {
   "cell_type": "code",
   "execution_count": 9,
   "metadata": {},
   "outputs": [
    {
     "name": "stderr",
     "output_type": "stream",
     "text": [
      "/Users/jai/dandi-search-response-ui/dandivenv/lib/python3.11/site-packages/langchain/llms/openai.py:811: UserWarning: You are trying to use a chat model. This way of initializing it is no longer supported. Instead, please use: `from langchain.chat_models import ChatOpenAI`\n",
      "  warnings.warn(\n"
     ]
    },
    {
     "ename": "JSONDecodeError",
     "evalue": "Expecting value: line 1 column 1 (char 0)",
     "output_type": "error",
     "traceback": [
      "\u001b[0;31m---------------------------------------------------------------------------\u001b[0m",
      "\u001b[0;31mJSONDecodeError\u001b[0m                           Traceback (most recent call last)",
      "\u001b[1;32m/Users/jai/dandi-search-response-ui/scripts/test_quantitative_search.ipynb Cell 3\u001b[0m line \u001b[0;36m2\n\u001b[1;32m     <a href='vscode-notebook-cell:/Users/jai/dandi-search-response-ui/scripts/test_quantitative_search.ipynb#W2sZmlsZQ%3D%3D?line=26'>27</a>\u001b[0m llm \u001b[39m=\u001b[39m OpenAIChat(model_name\u001b[39m=\u001b[39m\u001b[39m\"\u001b[39m\u001b[39mgpt-3.5-turbo\u001b[39m\u001b[39m\"\u001b[39m, max_tokens\u001b[39m=\u001b[39m\u001b[39m200\u001b[39m, temperature\u001b[39m=\u001b[39m\u001b[39m0\u001b[39m)\n\u001b[1;32m     <a href='vscode-notebook-cell:/Users/jai/dandi-search-response-ui/scripts/test_quantitative_search.ipynb#W2sZmlsZQ%3D%3D?line=27'>28</a>\u001b[0m response \u001b[39m=\u001b[39m llm(template)\n\u001b[0;32m---> <a href='vscode-notebook-cell:/Users/jai/dandi-search-response-ui/scripts/test_quantitative_search.ipynb#W2sZmlsZQ%3D%3D?line=28'>29</a>\u001b[0m response_json \u001b[39m=\u001b[39m json\u001b[39m.\u001b[39;49mloads(response)\n\u001b[1;32m     <a href='vscode-notebook-cell:/Users/jai/dandi-search-response-ui/scripts/test_quantitative_search.ipynb#W2sZmlsZQ%3D%3D?line=29'>30</a>\u001b[0m \u001b[39mprint\u001b[39m(response_json)\n",
      "File \u001b[0;32m/opt/homebrew/Cellar/python@3.11/3.11.6/Frameworks/Python.framework/Versions/3.11/lib/python3.11/json/__init__.py:346\u001b[0m, in \u001b[0;36mloads\u001b[0;34m(s, cls, object_hook, parse_float, parse_int, parse_constant, object_pairs_hook, **kw)\u001b[0m\n\u001b[1;32m    341\u001b[0m     s \u001b[39m=\u001b[39m s\u001b[39m.\u001b[39mdecode(detect_encoding(s), \u001b[39m'\u001b[39m\u001b[39msurrogatepass\u001b[39m\u001b[39m'\u001b[39m)\n\u001b[1;32m    343\u001b[0m \u001b[39mif\u001b[39;00m (\u001b[39mcls\u001b[39m \u001b[39mis\u001b[39;00m \u001b[39mNone\u001b[39;00m \u001b[39mand\u001b[39;00m object_hook \u001b[39mis\u001b[39;00m \u001b[39mNone\u001b[39;00m \u001b[39mand\u001b[39;00m\n\u001b[1;32m    344\u001b[0m         parse_int \u001b[39mis\u001b[39;00m \u001b[39mNone\u001b[39;00m \u001b[39mand\u001b[39;00m parse_float \u001b[39mis\u001b[39;00m \u001b[39mNone\u001b[39;00m \u001b[39mand\u001b[39;00m\n\u001b[1;32m    345\u001b[0m         parse_constant \u001b[39mis\u001b[39;00m \u001b[39mNone\u001b[39;00m \u001b[39mand\u001b[39;00m object_pairs_hook \u001b[39mis\u001b[39;00m \u001b[39mNone\u001b[39;00m \u001b[39mand\u001b[39;00m \u001b[39mnot\u001b[39;00m kw):\n\u001b[0;32m--> 346\u001b[0m     \u001b[39mreturn\u001b[39;00m _default_decoder\u001b[39m.\u001b[39;49mdecode(s)\n\u001b[1;32m    347\u001b[0m \u001b[39mif\u001b[39;00m \u001b[39mcls\u001b[39m \u001b[39mis\u001b[39;00m \u001b[39mNone\u001b[39;00m:\n\u001b[1;32m    348\u001b[0m     \u001b[39mcls\u001b[39m \u001b[39m=\u001b[39m JSONDecoder\n",
      "File \u001b[0;32m/opt/homebrew/Cellar/python@3.11/3.11.6/Frameworks/Python.framework/Versions/3.11/lib/python3.11/json/decoder.py:337\u001b[0m, in \u001b[0;36mJSONDecoder.decode\u001b[0;34m(self, s, _w)\u001b[0m\n\u001b[1;32m    332\u001b[0m \u001b[39mdef\u001b[39;00m \u001b[39mdecode\u001b[39m(\u001b[39mself\u001b[39m, s, _w\u001b[39m=\u001b[39mWHITESPACE\u001b[39m.\u001b[39mmatch):\n\u001b[1;32m    333\u001b[0m \u001b[39m    \u001b[39m\u001b[39m\"\"\"Return the Python representation of ``s`` (a ``str`` instance\u001b[39;00m\n\u001b[1;32m    334\u001b[0m \u001b[39m    containing a JSON document).\u001b[39;00m\n\u001b[1;32m    335\u001b[0m \n\u001b[1;32m    336\u001b[0m \u001b[39m    \"\"\"\u001b[39;00m\n\u001b[0;32m--> 337\u001b[0m     obj, end \u001b[39m=\u001b[39m \u001b[39mself\u001b[39;49m\u001b[39m.\u001b[39;49mraw_decode(s, idx\u001b[39m=\u001b[39;49m_w(s, \u001b[39m0\u001b[39;49m)\u001b[39m.\u001b[39;49mend())\n\u001b[1;32m    338\u001b[0m     end \u001b[39m=\u001b[39m _w(s, end)\u001b[39m.\u001b[39mend()\n\u001b[1;32m    339\u001b[0m     \u001b[39mif\u001b[39;00m end \u001b[39m!=\u001b[39m \u001b[39mlen\u001b[39m(s):\n",
      "File \u001b[0;32m/opt/homebrew/Cellar/python@3.11/3.11.6/Frameworks/Python.framework/Versions/3.11/lib/python3.11/json/decoder.py:355\u001b[0m, in \u001b[0;36mJSONDecoder.raw_decode\u001b[0;34m(self, s, idx)\u001b[0m\n\u001b[1;32m    353\u001b[0m     obj, end \u001b[39m=\u001b[39m \u001b[39mself\u001b[39m\u001b[39m.\u001b[39mscan_once(s, idx)\n\u001b[1;32m    354\u001b[0m \u001b[39mexcept\u001b[39;00m \u001b[39mStopIteration\u001b[39;00m \u001b[39mas\u001b[39;00m err:\n\u001b[0;32m--> 355\u001b[0m     \u001b[39mraise\u001b[39;00m JSONDecodeError(\u001b[39m\"\u001b[39m\u001b[39mExpecting value\u001b[39m\u001b[39m\"\u001b[39m, s, err\u001b[39m.\u001b[39mvalue) \u001b[39mfrom\u001b[39;00m \u001b[39mNone\u001b[39;00m\n\u001b[1;32m    356\u001b[0m \u001b[39mreturn\u001b[39;00m obj, end\n",
      "\u001b[0;31mJSONDecodeError\u001b[0m: Expecting value: line 1 column 1 (char 0)"
     ]
    }
   ],
   "source": [
    "# Approach #1: LLM\n",
    "from langchain.llms.openai import OpenAIChat\n",
    "import json\n",
    "\n",
    "SPECIES = \"species\"\n",
    "SCIENTIFIC_APPROACHES = \"scientific_approaches\"\n",
    "VARIABLES_MEASURED = \"varirables_measured\"\n",
    "MEASUREMENT_TECHNIQUES = \"measurement_techniques\"\n",
    "\n",
    "template = \"\"\"\n",
    "OBJECTIVE: \n",
    "Extract a numerical value and its corresponding asset type from a user query. \n",
    "The asset type must be one of the following: {}, {}, {}, or {}. \n",
    "If multiple numerical value and asset type pairs are identified, generate a list of triplets, each containing the numerical value, asset type, and comparison operator. \n",
    "The comparison operator (>=, >, <, <=, or ==) should best represent the number of assets to be retrieved. \n",
    "If either the numerical value or asset type is missing, do not create a triplet for that instance.\n",
    "\n",
    "DESIRED OUTPUT FORMAT (python list of triplets):\n",
    "- \"number_of_assets\": [int - numerical value],\n",
    "- \"asset_type\": [string - type of asset],\n",
    "- \"comparison_op\": [string - type of comparison operator]\n",
    "\n",
    "USER QUERY:\n",
    "{}\n",
    "\"\"\".format(SPECIES, SCIENTIFIC_APPROACHES, VARIABLES_MEASURED, MEASUREMENT_TECHNIQUES, QUERY)\n",
    "\n",
    "llm = OpenAIChat(model_name=\"gpt-3.5-turbo\", max_tokens=200, temperature=0)\n",
    "response = llm(template)\n",
    "response_json = json.loads(response)\n",
    "print(response_json)"
   ]
  },
  {
   "cell_type": "code",
   "execution_count": null,
   "metadata": {},
   "outputs": [
    {
     "name": "stdout",
     "output_type": "stream",
     "text": [
      "QUERY: Are there dandisets that contain 2 or more species and exactly 1 measurement?\n",
      "-----\n",
      "DANDI:000341/draft\n",
      "- Species (3): Rattus norvegicus - Norway rat, Homo sapiens - Human, Mus musculus - House mouse\n",
      "- Approaches (1): electrophysiological approach\n",
      "- Measurement Techniques (1): current clamp technique\n",
      "- Variables Measured (2): CurrentClampStimulusSeries, CurrentClampSeries\n"
     ]
    }
   ],
   "source": [
    "import sys\n",
    "\n",
    "if not response_json:\n",
    "    print(\"No quantitive extractions found.\")\n",
    "    sys.exit(0)\n",
    "\n",
    "# qdrant client\n",
    "qdrant_client = Qdrant(\n",
    "    location=\"https://906c3b3f-d3ff-4497-905f-2d7089487cf9.us-east4-0.gcp.cloud.qdrant.io\", \n",
    "    port=\"6333\",\n",
    "    api_key=os.environ.get(\"QDRANT_API_KEY\"),\n",
    ")\n",
    "\n",
    "# determine asset type\n",
    "def get_filter_key(asset_type: str):\n",
    "    if asset_type == SPECIES:\n",
    "        key = \"number_of_species\"\n",
    "    elif asset_type == SCIENTIFIC_APPROACHES:\n",
    "        key = \"number_of_approaches\"\n",
    "    elif asset_type == VARIABLES_MEASURED:\n",
    "        key = \"number_of_variables_measured\"\n",
    "    elif asset_type == MEASUREMENT_TECHNIQUES:\n",
    "        key = \"number_of_measurement_techniques\"\n",
    "    else:\n",
    "        key = None\n",
    "    return key\n",
    "\n",
    "# determine comparison operator\n",
    "def get_condition(key: str, comparison_op: str, num_asset: int):\n",
    "    if comparison_op == \"==\":\n",
    "        match = models.MatchValue(value=num_asset)\n",
    "        condition = models.FieldCondition(key=key, match=match)\n",
    "    elif comparison_op == \">=\":\n",
    "        range = models.Range(gte=float(num_asset))\n",
    "        condition = models.FieldCondition(key=key, range=range)\n",
    "    elif comparison_op == \">\":\n",
    "        range = models.Range(gt=float(num_asset))\n",
    "        condition = models.FieldCondition(key=key, range=range)\n",
    "    elif comparison_op == \"<=\":\n",
    "        range = models.Range(lte=float(num_asset))\n",
    "        condition = models.FieldCondition(key=key, range=range)\n",
    "    elif comparison_op == \"<\":\n",
    "        range = models.Range(lt=float(num_asset))\n",
    "        condition = models.FieldCondition(key=key, range=range)\n",
    "    else:\n",
    "        condition = None\n",
    "    return condition\n",
    "\n",
    "# get matches\n",
    "conditions = []\n",
    "for i, extraction in enumerate(response_json):\n",
    "    asset_type = extraction.get(\"asset_type\", None)\n",
    "    number_of_assets = extraction.get(\"number_of_assets\", None)\n",
    "    comparison_op = extraction.get(\"comparison_op\", None)\n",
    "    if not asset_type or not number_of_assets or not comparison_op:\n",
    "        print(f\"Triplet #{i} skipped (due to None value).\")\n",
    "        continue\n",
    "\n",
    "    key = get_filter_key(asset_type=asset_type)\n",
    "    condition = get_condition(key=key, comparison_op=comparison_op, num_asset=number_of_assets)\n",
    "    conditions.append(condition)\n",
    "\n",
    "# qdrant filter\n",
    "filter = models.Filter(must=conditions)\n",
    "\n",
    "# query similar results based on filter\n",
    "docs = qdrant_client.scroll(\"dandi_collection_ada002\", scroll_filter=filter, limit=10, with_vectors=False, with_payload=True)[0]\n",
    "print(\"QUERY:\", QUERY)\n",
    "print(\"-----\")\n",
    "if not docs:\n",
    "    print(\"No relevant dandisets found.\")\n",
    "else:\n",
    "    for doc in docs:\n",
    "        pl = doc.payload\n",
    "        print(f\"DANDI:{pl['dandiset_id']}/{pl['dandiset_version']}\")\n",
    "        print(f\"- Species ({pl['number_of_species']}):\", \", \".join(pl[\"species\"]))\n",
    "        print(f\"- Approaches ({pl['number_of_approaches']}):\", \", \".join(pl[\"approaches\"]))\n",
    "        print(f\"- Measurement Techniques ({pl['number_of_measurement_techniques']}):\", \", \".join(pl[\"measurement_techniques\"]))\n",
    "        print(f\"- Variables Measured ({pl['number_of_variables_measured']}):\", \", \".join(pl[\"variables_measured\"]))"
   ]
  }
 ],
 "metadata": {
  "kernelspec": {
   "display_name": "dandivenv",
   "language": "python",
   "name": "python3"
  },
  "language_info": {
   "codemirror_mode": {
    "name": "ipython",
    "version": 3
   },
   "file_extension": ".py",
   "mimetype": "text/x-python",
   "name": "python",
   "nbconvert_exporter": "python",
   "pygments_lexer": "ipython3",
   "version": "3.11.6"
  }
 },
 "nbformat": 4,
 "nbformat_minor": 2
}
