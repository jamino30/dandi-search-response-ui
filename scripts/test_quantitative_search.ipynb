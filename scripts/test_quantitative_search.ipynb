{
 "cells": [
  {
   "cell_type": "markdown",
   "metadata": {},
   "source": [
    "## Deal with (one or relational) quantitative queries on Dandi Search\n",
    "\n",
    "TODO:\n",
    "- Relational: differentiate between or, and (should vs must)\n",
    "- Negation: must_not "
   ]
  },
  {
   "cell_type": "code",
   "execution_count": 42,
   "metadata": {},
   "outputs": [],
   "source": [
    "from qdrant_client import QdrantClient as Qdrant\n",
    "from qdrant_client.models import models\n",
    "import os\n",
    "\n",
    "# ---------------------\n",
    "\n",
    "QUERY = \"Are there dandisets that do not contain 2 species but do contain 3 or more measurements?\"\n",
    "\n",
    "# ---------------------\n"
   ]
  },
  {
   "cell_type": "code",
   "execution_count": 43,
   "metadata": {},
   "outputs": [
    {
     "name": "stderr",
     "output_type": "stream",
     "text": [
      "/Users/jai/dandi-search-response-ui/dandivenv/lib/python3.11/site-packages/langchain/llms/openai.py:811: UserWarning: You are trying to use a chat model. This way of initializing it is no longer supported. Instead, please use: `from langchain.chat_models import ChatOpenAI`\n",
      "  warnings.warn(\n"
     ]
    },
    {
     "name": "stdout",
     "output_type": "stream",
     "text": [
      "[{'number_of_assets': 2, 'asset_type': 'species', 'comparison_op': '!='}, {'number_of_assets': 3, 'asset_type': 'measurements', 'comparison_op': '>='}]\n"
     ]
    }
   ],
   "source": [
    "from langchain.llms.openai import OpenAIChat\n",
    "import json\n",
    "\n",
    "SPECIES = \"species\"\n",
    "SCIENTIFIC_APPROACHES = \"scientific_approaches\"\n",
    "VARIABLES_MEASURED = \"varirables_measured\"\n",
    "MEASUREMENT_TECHNIQUES = \"measurement_techniques\"\n",
    "\n",
    "template = \"\"\"\n",
    "OBJECTIVE: \n",
    "Extract a numerical value and its corresponding asset type from a user query. \n",
    "The asset type must be classified to one of the following: {}, {}, {}, {}\n",
    "If multiple numerical value and asset type pairs are identified, generate a list of triplets, each containing the numerical value, asset type, and comparison operator. \n",
    "The comparison operator (>=, >, <, <=, ==, !=) should best represent the number of assets to be retrieved. Remember to account for negation based on the query wording.\n",
    "If either the numerical value or asset type is missing, do not create a triplet for that instance.\n",
    "\n",
    "DESIRED OUTPUT FORMAT (python list of triplets):\n",
    "- \"number_of_assets\": [int - numerical value],\n",
    "- \"asset_type\": [string - type of asset],\n",
    "- \"comparison_op\": [string - type of comparison operator]\n",
    "\n",
    "Note: Ensure the exact dictionary key and values are used as mentioned above\n",
    "\n",
    "USER QUERY:\n",
    "{}\n",
    "\"\"\".format(SPECIES, SCIENTIFIC_APPROACHES, VARIABLES_MEASURED, MEASUREMENT_TECHNIQUES, QUERY)\n",
    "\n",
    "llm = OpenAIChat(model_name=\"gpt-3.5-turbo\", max_tokens=100, temperature=0)\n",
    "response = llm(template)\n",
    "try:\n",
    "    response_json = json.loads(response)\n",
    "    print(response_json)\n",
    "except Exception:\n",
    "    print(\"Failed to retrieve JSON. Output:\", response)"
   ]
  },
  {
   "cell_type": "code",
   "execution_count": 44,
   "metadata": {},
   "outputs": [
    {
     "ename": "ValidationError",
     "evalue": "1 validation error for FieldCondition\nkey\n  none is not an allowed value (type=type_error.none.not_allowed)",
     "output_type": "error",
     "traceback": [
      "\u001b[0;31m---------------------------------------------------------------------------\u001b[0m",
      "\u001b[0;31mValidationError\u001b[0m                           Traceback (most recent call last)",
      "\u001b[1;32m/Users/jai/dandi-search-response-ui/scripts/test_quantitative_search.ipynb Cell 4\u001b[0m line \u001b[0;36m6\n\u001b[1;32m     <a href='vscode-notebook-cell:/Users/jai/dandi-search-response-ui/scripts/test_quantitative_search.ipynb#W3sZmlsZQ%3D%3D?line=62'>63</a>\u001b[0m     \u001b[39mcontinue\u001b[39;00m\n\u001b[1;32m     <a href='vscode-notebook-cell:/Users/jai/dandi-search-response-ui/scripts/test_quantitative_search.ipynb#W3sZmlsZQ%3D%3D?line=64'>65</a>\u001b[0m key \u001b[39m=\u001b[39m get_filter_key(asset_type\u001b[39m=\u001b[39masset_type)\n\u001b[0;32m---> <a href='vscode-notebook-cell:/Users/jai/dandi-search-response-ui/scripts/test_quantitative_search.ipynb#W3sZmlsZQ%3D%3D?line=65'>66</a>\u001b[0m condition, is_must \u001b[39m=\u001b[39m get_condition(key\u001b[39m=\u001b[39;49mkey, comparison_op\u001b[39m=\u001b[39;49mcomparison_op\u001b[39m.\u001b[39;49mstrip(), num_asset\u001b[39m=\u001b[39;49mnumber_of_assets)\n\u001b[1;32m     <a href='vscode-notebook-cell:/Users/jai/dandi-search-response-ui/scripts/test_quantitative_search.ipynb#W3sZmlsZQ%3D%3D?line=66'>67</a>\u001b[0m \u001b[39mif\u001b[39;00m is_must:\n\u001b[1;32m     <a href='vscode-notebook-cell:/Users/jai/dandi-search-response-ui/scripts/test_quantitative_search.ipynb#W3sZmlsZQ%3D%3D?line=67'>68</a>\u001b[0m     must_conditions\u001b[39m.\u001b[39mappend(condition)\n",
      "\u001b[1;32m/Users/jai/dandi-search-response-ui/scripts/test_quantitative_search.ipynb Cell 4\u001b[0m line \u001b[0;36m4\n\u001b[1;32m     <a href='vscode-notebook-cell:/Users/jai/dandi-search-response-ui/scripts/test_quantitative_search.ipynb#W3sZmlsZQ%3D%3D?line=37'>38</a>\u001b[0m \u001b[39melif\u001b[39;00m comparison_op \u001b[39m==\u001b[39m \u001b[39m\"\u001b[39m\u001b[39m>=\u001b[39m\u001b[39m\"\u001b[39m:\n\u001b[1;32m     <a href='vscode-notebook-cell:/Users/jai/dandi-search-response-ui/scripts/test_quantitative_search.ipynb#W3sZmlsZQ%3D%3D?line=38'>39</a>\u001b[0m     \u001b[39mrange\u001b[39m \u001b[39m=\u001b[39m models\u001b[39m.\u001b[39mRange(gte\u001b[39m=\u001b[39m\u001b[39mfloat\u001b[39m(num_asset))\n\u001b[0;32m---> <a href='vscode-notebook-cell:/Users/jai/dandi-search-response-ui/scripts/test_quantitative_search.ipynb#W3sZmlsZQ%3D%3D?line=39'>40</a>\u001b[0m     condition \u001b[39m=\u001b[39m models\u001b[39m.\u001b[39;49mFieldCondition(key\u001b[39m=\u001b[39;49mkey, \u001b[39mrange\u001b[39;49m\u001b[39m=\u001b[39;49m\u001b[39mrange\u001b[39;49m)\n\u001b[1;32m     <a href='vscode-notebook-cell:/Users/jai/dandi-search-response-ui/scripts/test_quantitative_search.ipynb#W3sZmlsZQ%3D%3D?line=40'>41</a>\u001b[0m \u001b[39melif\u001b[39;00m comparison_op \u001b[39m==\u001b[39m \u001b[39m\"\u001b[39m\u001b[39m>\u001b[39m\u001b[39m\"\u001b[39m:\n\u001b[1;32m     <a href='vscode-notebook-cell:/Users/jai/dandi-search-response-ui/scripts/test_quantitative_search.ipynb#W3sZmlsZQ%3D%3D?line=41'>42</a>\u001b[0m     \u001b[39mrange\u001b[39m \u001b[39m=\u001b[39m models\u001b[39m.\u001b[39mRange(gt\u001b[39m=\u001b[39m\u001b[39mfloat\u001b[39m(num_asset))\n",
      "File \u001b[0;32m~/dandi-search-response-ui/dandivenv/lib/python3.11/site-packages/pydantic/main.py:341\u001b[0m, in \u001b[0;36mpydantic.main.BaseModel.__init__\u001b[0;34m()\u001b[0m\n",
      "\u001b[0;31mValidationError\u001b[0m: 1 validation error for FieldCondition\nkey\n  none is not an allowed value (type=type_error.none.not_allowed)"
     ]
    }
   ],
   "source": [
    "import sys\n",
    "\n",
    "if not response_json:\n",
    "    print(\"No quantitive extractions found.\")\n",
    "    sys.exit(0)\n",
    "\n",
    "# qdrant client\n",
    "qdrant_client = Qdrant(\n",
    "    location=\"https://906c3b3f-d3ff-4497-905f-2d7089487cf9.us-east4-0.gcp.cloud.qdrant.io\", \n",
    "    port=\"6333\",\n",
    "    api_key=os.environ.get(\"QDRANT_API_KEY\"),\n",
    ")\n",
    "\n",
    "# determine asset type\n",
    "def get_filter_key(asset_type: str):\n",
    "    if asset_type == SPECIES:\n",
    "        key = \"number_of_species\"\n",
    "    elif asset_type == SCIENTIFIC_APPROACHES:\n",
    "        key = \"number_of_approaches\"\n",
    "    elif asset_type == VARIABLES_MEASURED:\n",
    "        key = \"number_of_variables_measured\"\n",
    "    elif asset_type == MEASUREMENT_TECHNIQUES:\n",
    "        key = \"number_of_measurement_techniques\"\n",
    "    else:\n",
    "        key = None\n",
    "    return key\n",
    "\n",
    "# determine comparison operator\n",
    "def get_condition(key: str, comparison_op: str, num_asset: int) -> (models.FieldCondition, bool):\n",
    "    is_must = True\n",
    "    if comparison_op == \"==\":\n",
    "        match = models.MatchValue(value=num_asset)\n",
    "        condition = models.FieldCondition(key=key, match=match)\n",
    "    elif comparison_op == \"!=\":\n",
    "        match = models.MatchValue(value=num_asset)\n",
    "        condition = models.FieldCondition(key=key, match=match)\n",
    "        is_must = False\n",
    "    elif comparison_op == \">=\":\n",
    "        range = models.Range(gte=float(num_asset))\n",
    "        condition = models.FieldCondition(key=key, range=range)\n",
    "    elif comparison_op == \">\":\n",
    "        range = models.Range(gt=float(num_asset))\n",
    "        condition = models.FieldCondition(key=key, range=range)\n",
    "    elif comparison_op == \"<=\":\n",
    "        range = models.Range(lte=float(num_asset))\n",
    "        condition = models.FieldCondition(key=key, range=range)\n",
    "    elif comparison_op == \"<\":\n",
    "        range = models.Range(lt=float(num_asset))\n",
    "        condition = models.FieldCondition(key=key, range=range)\n",
    "    else:\n",
    "        condition = None\n",
    "    return condition, is_must\n",
    "\n",
    "# get matches\n",
    "must_conditions = []\n",
    "must_not_conditions = []\n",
    "for i, extraction in enumerate(response_json):\n",
    "    asset_type = extraction.get(\"asset_type\", None)\n",
    "    number_of_assets = extraction.get(\"number_of_assets\", None)\n",
    "    comparison_op = extraction.get(\"comparison_op\", None)\n",
    "    if not asset_type or not number_of_assets or not comparison_op:\n",
    "        print(f\"Triplet #{i} skipped (due to None value).\")\n",
    "        continue\n",
    "\n",
    "    key = get_filter_key(asset_type=asset_type)\n",
    "    condition, is_must = get_condition(key=key, comparison_op=comparison_op.strip(), num_asset=number_of_assets)\n",
    "    if is_must:\n",
    "        must_conditions.append(condition)\n",
    "    else:\n",
    "        must_not_conditions.append(condition)\n",
    "\n",
    "# qdrant filter\n",
    "filter = models.Filter(\n",
    "    must=must_conditions if must_conditions else None, \n",
    "    must_not=must_not_conditions if must_not_conditions else None\n",
    ")\n",
    "\n",
    "# query similar results based on filter\n",
    "docs = qdrant_client.scroll(\"dandi_collection_ada002\", scroll_filter=filter, limit=10, with_vectors=False, with_payload=True)[0]\n",
    "print(\"QUERY:\", QUERY)\n",
    "print(\"-----\")\n",
    "if not docs:\n",
    "    print(\"No relevant dandisets found.\")\n",
    "else:\n",
    "    for doc in docs:\n",
    "        pl = doc.payload\n",
    "        print(f\"DANDI:{pl['dandiset_id']}/{pl['dandiset_version']}\")\n",
    "        print(f\"- Species ({pl['number_of_species']}):\", \", \".join(pl[\"species\"]))\n",
    "        print(f\"- Approaches ({pl['number_of_approaches']}):\", \", \".join(pl[\"approaches\"]))\n",
    "        print(f\"- Measurement Techniques ({pl['number_of_measurement_techniques']}):\", \", \".join(pl[\"measurement_techniques\"]))\n",
    "        print(f\"- Variables Measured ({pl['number_of_variables_measured']}):\", \", \".join(pl[\"variables_measured\"]))"
   ]
  }
 ],
 "metadata": {
  "kernelspec": {
   "display_name": "dandivenv",
   "language": "python",
   "name": "python3"
  },
  "language_info": {
   "codemirror_mode": {
    "name": "ipython",
    "version": 3
   },
   "file_extension": ".py",
   "mimetype": "text/x-python",
   "name": "python",
   "nbconvert_exporter": "python",
   "pygments_lexer": "ipython3",
   "version": "3.11.6"
  }
 },
 "nbformat": 4,
 "nbformat_minor": 2
}
