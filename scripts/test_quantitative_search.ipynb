{
 "cells": [
  {
   "cell_type": "markdown",
   "metadata": {},
   "source": [
    "## Deal with (one or relational) quantitative queries on Dandi Search"
   ]
  },
  {
   "cell_type": "code",
   "execution_count": 1,
   "metadata": {},
   "outputs": [],
   "source": [
    "# Basic: Deal with finding dandisets with 2 or more species. Filter via Qdrnat api\n",
    "from qdrant_client import QdrantClient as Qdrant\n",
    "from qdrant_client.models import models\n",
    "import os\n",
    "\n",
    "# ---------------------\n",
    "\n",
    "QUERY = \"Are there dandisets that contain 2 or more species and exactly 1 measurement?\"\n",
    "\n",
    "# ---------------------\n"
   ]
  },
  {
   "cell_type": "code",
   "execution_count": 2,
   "metadata": {},
   "outputs": [
    {
     "name": "stderr",
     "output_type": "stream",
     "text": [
      "/Users/jai/dandi-search-response-ui/dandivenv/lib/python3.11/site-packages/langchain/llms/openai.py:811: UserWarning: You are trying to use a chat model. This way of initializing it is no longer supported. Instead, please use: `from langchain.chat_models import ChatOpenAI`\n",
      "  warnings.warn(\n"
     ]
    },
    {
     "name": "stdout",
     "output_type": "stream",
     "text": [
      "[{'number_of_assets': 2, 'asset_type': 'species', 'comparison_op': '>='}, {'number_of_assets': 1, 'asset_type': 'measurement_techniques', 'comparison_op': '=='}]\n"
     ]
    }
   ],
   "source": [
    "# Approach #1: LLM\n",
    "from langchain.llms.openai import OpenAIChat\n",
    "import json\n",
    "\n",
    "SPECIES = \"species\"\n",
    "SCIENTIFIC_APPROACHES = \"scientific_approaches\"\n",
    "VARIABLES_MEASURED = \"varirables_measured\"\n",
    "MEASUREMENT_TECHNIQUES = \"measurement_techniques\"\n",
    "\n",
    "template = \"\"\"\n",
    "OBJECTIVE: \n",
    "Extract a numerical value and its corresponding asset type from a user query. \n",
    "The asset type must be one of the following: {}, {}, {}, or {}. \n",
    "If multiple numerical value and asset type pairs are identified, generate a list of triplets, each containing the numerical value, asset type, and comparison operator. \n",
    "The comparison operator (>=, >, <, <=, or ==) should best represent the number of assets to be retrieved. \n",
    "If either the numerical value or asset type is missing, do not create a triplet for that instance.\n",
    "\n",
    "DESIRED OUTPUT FORMAT (python list of triplets):\n",
    "- \"number_of_assets\": [int - numerical value],\n",
    "- \"asset_type\": [string - type of asset],\n",
    "- \"comparison_op\": [string - type of comparison operator]\n",
    "\n",
    "USER QUERY:\n",
    "{}\n",
    "\"\"\".format(SPECIES, SCIENTIFIC_APPROACHES, VARIABLES_MEASURED, MEASUREMENT_TECHNIQUES, QUERY)\n",
    "\n",
    "llm = OpenAIChat(model_name=\"gpt-3.5-turbo\", max_tokens=200, temperature=0)\n",
    "response = llm(template)\n",
    "response_json = json.loads(response)\n",
    "print(response_json)"
   ]
  },
  {
   "cell_type": "code",
   "execution_count": 6,
   "metadata": {},
   "outputs": [
    {
     "ename": "ValidationError",
     "evalue": "32 validation errors for FieldCondition\nmatch -> value\n  field required (type=value_error.missing)\nmatch -> geo_bounding_box\n  extra fields not permitted (type=value_error.extra)\nmatch -> geo_polygon\n  extra fields not permitted (type=value_error.extra)\nmatch -> geo_radius\n  extra fields not permitted (type=value_error.extra)\nmatch -> key\n  extra fields not permitted (type=value_error.extra)\nmatch -> match\n  extra fields not permitted (type=value_error.extra)\nmatch -> range\n  extra fields not permitted (type=value_error.extra)\nmatch -> values_count\n  extra fields not permitted (type=value_error.extra)\nmatch -> text\n  field required (type=value_error.missing)\nmatch -> geo_bounding_box\n  extra fields not permitted (type=value_error.extra)\nmatch -> geo_polygon\n  extra fields not permitted (type=value_error.extra)\nmatch -> geo_radius\n  extra fields not permitted (type=value_error.extra)\nmatch -> key\n  extra fields not permitted (type=value_error.extra)\nmatch -> match\n  extra fields not permitted (type=value_error.extra)\nmatch -> range\n  extra fields not permitted (type=value_error.extra)\nmatch -> values_count\n  extra fields not permitted (type=value_error.extra)\nmatch -> any\n  field required (type=value_error.missing)\nmatch -> geo_bounding_box\n  extra fields not permitted (type=value_error.extra)\nmatch -> geo_polygon\n  extra fields not permitted (type=value_error.extra)\nmatch -> geo_radius\n  extra fields not permitted (type=value_error.extra)\nmatch -> key\n  extra fields not permitted (type=value_error.extra)\nmatch -> match\n  extra fields not permitted (type=value_error.extra)\nmatch -> range\n  extra fields not permitted (type=value_error.extra)\nmatch -> values_count\n  extra fields not permitted (type=value_error.extra)\nmatch -> except\n  field required (type=value_error.missing)\nmatch -> geo_bounding_box\n  extra fields not permitted (type=value_error.extra)\nmatch -> geo_polygon\n  extra fields not permitted (type=value_error.extra)\nmatch -> geo_radius\n  extra fields not permitted (type=value_error.extra)\nmatch -> key\n  extra fields not permitted (type=value_error.extra)\nmatch -> match\n  extra fields not permitted (type=value_error.extra)\nmatch -> range\n  extra fields not permitted (type=value_error.extra)\nmatch -> values_count\n  extra fields not permitted (type=value_error.extra)",
     "output_type": "error",
     "traceback": [
      "\u001b[0;31m---------------------------------------------------------------------------\u001b[0m",
      "\u001b[0;31mValidationError\u001b[0m                           Traceback (most recent call last)",
      "\u001b[1;32m/Users/jai/dandi-search-response-ui/scripts/test_quantitative_search.ipynb Cell 4\u001b[0m line \u001b[0;36m6\n\u001b[1;32m     <a href='vscode-notebook-cell:/Users/jai/dandi-search-response-ui/scripts/test_quantitative_search.ipynb#W3sZmlsZQ%3D%3D?line=58'>59</a>\u001b[0m     key \u001b[39m=\u001b[39m get_filter_key(asset_type\u001b[39m=\u001b[39masset_type)\n\u001b[1;32m     <a href='vscode-notebook-cell:/Users/jai/dandi-search-response-ui/scripts/test_quantitative_search.ipynb#W3sZmlsZQ%3D%3D?line=59'>60</a>\u001b[0m     condition \u001b[39m=\u001b[39m get_condition(key\u001b[39m=\u001b[39mkey, comparison_op\u001b[39m=\u001b[39mcomparison_op, num_asset\u001b[39m=\u001b[39mnumber_of_assets)\n\u001b[0;32m---> <a href='vscode-notebook-cell:/Users/jai/dandi-search-response-ui/scripts/test_quantitative_search.ipynb#W3sZmlsZQ%3D%3D?line=61'>62</a>\u001b[0m     condition \u001b[39m=\u001b[39m models\u001b[39m.\u001b[39;49mFieldCondition(key\u001b[39m=\u001b[39;49mkey, match\u001b[39m=\u001b[39;49mcondition)\n\u001b[1;32m     <a href='vscode-notebook-cell:/Users/jai/dandi-search-response-ui/scripts/test_quantitative_search.ipynb#W3sZmlsZQ%3D%3D?line=62'>63</a>\u001b[0m     conditions\u001b[39m.\u001b[39mappend(condition)\n\u001b[1;32m     <a href='vscode-notebook-cell:/Users/jai/dandi-search-response-ui/scripts/test_quantitative_search.ipynb#W3sZmlsZQ%3D%3D?line=64'>65</a>\u001b[0m \u001b[39m# qdrant filter\u001b[39;00m\n",
      "File \u001b[0;32m~/dandi-search-response-ui/dandivenv/lib/python3.11/site-packages/pydantic/main.py:341\u001b[0m, in \u001b[0;36mpydantic.main.BaseModel.__init__\u001b[0;34m()\u001b[0m\n",
      "\u001b[0;31mValidationError\u001b[0m: 32 validation errors for FieldCondition\nmatch -> value\n  field required (type=value_error.missing)\nmatch -> geo_bounding_box\n  extra fields not permitted (type=value_error.extra)\nmatch -> geo_polygon\n  extra fields not permitted (type=value_error.extra)\nmatch -> geo_radius\n  extra fields not permitted (type=value_error.extra)\nmatch -> key\n  extra fields not permitted (type=value_error.extra)\nmatch -> match\n  extra fields not permitted (type=value_error.extra)\nmatch -> range\n  extra fields not permitted (type=value_error.extra)\nmatch -> values_count\n  extra fields not permitted (type=value_error.extra)\nmatch -> text\n  field required (type=value_error.missing)\nmatch -> geo_bounding_box\n  extra fields not permitted (type=value_error.extra)\nmatch -> geo_polygon\n  extra fields not permitted (type=value_error.extra)\nmatch -> geo_radius\n  extra fields not permitted (type=value_error.extra)\nmatch -> key\n  extra fields not permitted (type=value_error.extra)\nmatch -> match\n  extra fields not permitted (type=value_error.extra)\nmatch -> range\n  extra fields not permitted (type=value_error.extra)\nmatch -> values_count\n  extra fields not permitted (type=value_error.extra)\nmatch -> any\n  field required (type=value_error.missing)\nmatch -> geo_bounding_box\n  extra fields not permitted (type=value_error.extra)\nmatch -> geo_polygon\n  extra fields not permitted (type=value_error.extra)\nmatch -> geo_radius\n  extra fields not permitted (type=value_error.extra)\nmatch -> key\n  extra fields not permitted (type=value_error.extra)\nmatch -> match\n  extra fields not permitted (type=value_error.extra)\nmatch -> range\n  extra fields not permitted (type=value_error.extra)\nmatch -> values_count\n  extra fields not permitted (type=value_error.extra)\nmatch -> except\n  field required (type=value_error.missing)\nmatch -> geo_bounding_box\n  extra fields not permitted (type=value_error.extra)\nmatch -> geo_polygon\n  extra fields not permitted (type=value_error.extra)\nmatch -> geo_radius\n  extra fields not permitted (type=value_error.extra)\nmatch -> key\n  extra fields not permitted (type=value_error.extra)\nmatch -> match\n  extra fields not permitted (type=value_error.extra)\nmatch -> range\n  extra fields not permitted (type=value_error.extra)\nmatch -> values_count\n  extra fields not permitted (type=value_error.extra)"
     ]
    }
   ],
   "source": [
    "import sys\n",
    "\n",
    "if not response_json:\n",
    "    print(\"No quantitive extractions found.\")\n",
    "    sys.exit(0)\n",
    "\n",
    "# qdrant client\n",
    "qdrant_client = Qdrant(\n",
    "    location=\"https://906c3b3f-d3ff-4497-905f-2d7089487cf9.us-east4-0.gcp.cloud.qdrant.io\", \n",
    "    port=\"6333\",\n",
    "    api_key=os.environ.get(\"QDRANT_API_KEY\"),\n",
    ")\n",
    "\n",
    "# determine asset type\n",
    "def get_filter_key(asset_type: str):\n",
    "    if asset_type == SPECIES:\n",
    "        key = \"number_of_species\"\n",
    "    elif asset_type == SCIENTIFIC_APPROACHES:\n",
    "        key = \"number_of_approaches\"\n",
    "    elif asset_type == VARIABLES_MEASURED:\n",
    "        key = \"number_of_variables_measured\"\n",
    "    elif asset_type == MEASUREMENT_TECHNIQUES:\n",
    "        key = \"number_of_measurement_techniques\"\n",
    "    else:\n",
    "        key = None\n",
    "    return key\n",
    "\n",
    "# determine comparison operator\n",
    "def get_condition(key: str, comparison_op: str, num_asset: int):\n",
    "    if comparison_op == \"==\":\n",
    "        match = models.MatchValue(value=num_asset)\n",
    "        condition = models.FieldCondition(key=key, match=match)\n",
    "    elif comparison_op == \">=\":\n",
    "        range = models.Range(gte=float(num_asset))\n",
    "        condition = models.FieldCondition(key=key, range=range)\n",
    "    elif comparison_op == \">\":\n",
    "        range = models.Range(gt=float(num_asset))\n",
    "        condition = models.FieldCondition(key=key, range=range)\n",
    "    elif comparison_op == \"<=\":\n",
    "        range = models.Range(lte=float(num_asset))\n",
    "        condition = models.FieldCondition(key=key, range=range)\n",
    "    elif comparison_op == \"<\":\n",
    "        range = models.Range(lt=float(num_asset))\n",
    "        condition = models.FieldCondition(key=key, range=range)\n",
    "    else:\n",
    "        condition = None\n",
    "    return condition\n",
    "\n",
    "# get matches\n",
    "conditions = []\n",
    "for i, extraction in enumerate(response_json):\n",
    "    asset_type = extraction.get(\"asset_type\", None)\n",
    "    number_of_assets = extraction.get(\"number_of_assets\", None)\n",
    "    comparison_op = extraction.get(\"comparison_op\", None)\n",
    "    if not asset_type or not number_of_assets or not comparison_op:\n",
    "        print(f\"Triplet #{i} skipped (due to None value).\")\n",
    "        continue\n",
    "\n",
    "    key = get_filter_key(asset_type=asset_type)\n",
    "    condition = get_condition(key=key, comparison_op=comparison_op, num_asset=number_of_assets)\n",
    "    conditions.append(condition)\n",
    "\n",
    "# qdrant filter\n",
    "filter = models.Filter(must=conditions)\n",
    "\n",
    "# query similar results based on filter\n",
    "docs = qdrant_client.scroll(\"dandi_collection_ada002\", scroll_filter=filter, limit=10, with_vectors=False, with_payload=True)[0]\n",
    "print(\"QUERY:\", QUERY)\n",
    "print(\"-----\")\n",
    "if not docs:\n",
    "    print(\"No relevant dandisets found.\")\n",
    "else:\n",
    "    for doc in docs:\n",
    "        pl = doc.payload\n",
    "        print(f\"DANDI:{pl['dandiset_id']}/{pl['dandiset_version']}\")\n",
    "        print(f\"- Species ({pl['number_of_species']}):\", \", \".join(pl[\"species\"]))\n",
    "        print(f\"- Approaches ({pl['number_of_approaches']}):\", \", \".join(pl[\"approaches\"]))\n",
    "        print(f\"- Measurement Techniques ({pl['number_of_measurement_techniques']}):\", \", \".join(pl[\"measurement_techniques\"]))\n",
    "        print(f\"- Variables Measured ({pl['number_of_variables_measured']}):\", \", \".join(pl[\"variables_measured\"]))"
   ]
  }
 ],
 "metadata": {
  "kernelspec": {
   "display_name": "dandivenv",
   "language": "python",
   "name": "python3"
  },
  "language_info": {
   "codemirror_mode": {
    "name": "ipython",
    "version": 3
   },
   "file_extension": ".py",
   "mimetype": "text/x-python",
   "name": "python",
   "nbconvert_exporter": "python",
   "pygments_lexer": "ipython3",
   "version": "3.11.6"
  }
 },
 "nbformat": 4,
 "nbformat_minor": 2
}
