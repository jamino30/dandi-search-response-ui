{
 "cells": [
  {
   "cell_type": "markdown",
   "metadata": {},
   "source": [
    "## Deal with quantitative queries on Dandi Search"
   ]
  },
  {
   "cell_type": "code",
   "execution_count": 1,
   "metadata": {},
   "outputs": [],
   "source": [
    "# Basic: Deal with finding dandisets with 2 or more species. Filter via Qdrnat api\n",
    "from qdrant_client import QdrantClient as Qdrant\n",
    "from qdrant_client.models import models\n",
    "import os\n",
    "\n",
    "# ---------------------\n",
    "\n",
    "QUERY = \"Are there any dandisets that contain 2 or more species?\"\n",
    "\n",
    "#Ex: Which dandisets have more than X subjects/neurons from brain region Y?\n",
    "#Ex: Show me dandisets with the most species.\n",
    "\n",
    "# ---------------------\n"
   ]
  },
  {
   "cell_type": "code",
   "execution_count": null,
   "metadata": {},
   "outputs": [],
   "source": [
    "# Approach #1: Extraction chain\n",
    "from langchain.chat_models import ChatOpenAI\n",
    "from langchain.chains import create_extraction_chain\n",
    "species_schema = {\n",
    "    \"properties\": {\n",
    "        \"number_of_asset\": {\n",
    "            \"type\": \"integer\",\n",
    "            \"description\": \"Numerical value representing the number of a specific asset\",\n",
    "        },\n",
    "        \"asset_type\": {\n",
    "            \"type\": \"string\",\n",
    "            \"description\": \"One of: species, approach, variable measured, measurement technique\",\n",
    "        },\n",
    "        \"comparison_operator\": {\n",
    "            \"type\": \"string\",\n",
    "            \"description\": \"Comparison operator for the number of assets (e.g. 'greater than', 'less', 'more')\"\n",
    "        }\n",
    "    },\n",
    "    \"required\": [\"number_of_asset\", \"asset_type\"],\n",
    "}\n",
    "llm = ChatOpenAI(model=\"gpt-3.5-turbo\", temperature=0)\n",
    "chain = create_extraction_chain(schema=species_schema, llm=llm)\n",
    "extracted = chain.run(QUERY)\n",
    "print(extracted)"
   ]
  },
  {
   "cell_type": "code",
   "execution_count": 4,
   "metadata": {},
   "outputs": [
    {
     "ename": "ValidationError",
     "evalue": "1 validation error for PromptTemplate\n__root__\n  Invalid prompt schema; check for mismatched or missing input parameters. \"\\n    'number_of_asset'\" (type=value_error)",
     "output_type": "error",
     "traceback": [
      "\u001b[0;31m---------------------------------------------------------------------------\u001b[0m",
      "\u001b[0;31mValidationError\u001b[0m                           Traceback (most recent call last)",
      "\u001b[1;32m/Users/jai/dandi-search-response-ui/scripts/test_quantitative_search.ipynb Cell 4\u001b[0m line \u001b[0;36m2\n\u001b[1;32m      <a href='vscode-notebook-cell:/Users/jai/dandi-search-response-ui/scripts/test_quantitative_search.ipynb#W3sZmlsZQ%3D%3D?line=4'>5</a>\u001b[0m \u001b[39mfrom\u001b[39;00m \u001b[39mlangchain\u001b[39;00m\u001b[39m.\u001b[39;00m\u001b[39mchains\u001b[39;00m \u001b[39mimport\u001b[39;00m LLMChain\n\u001b[1;32m      <a href='vscode-notebook-cell:/Users/jai/dandi-search-response-ui/scripts/test_quantitative_search.ipynb#W3sZmlsZQ%3D%3D?line=6'>7</a>\u001b[0m template \u001b[39m=\u001b[39m \u001b[39m\"\"\"\u001b[39m\n\u001b[1;32m      <a href='vscode-notebook-cell:/Users/jai/dandi-search-response-ui/scripts/test_quantitative_search.ipynb#W3sZmlsZQ%3D%3D?line=7'>8</a>\u001b[0m \u001b[39mYour task is to extract a numerical value that represents a specific asset along with the asset type itself from a given user query.\u001b[39m\n\u001b[1;32m      <a href='vscode-notebook-cell:/Users/jai/dandi-search-response-ui/scripts/test_quantitative_search.ipynb#W3sZmlsZQ%3D%3D?line=8'>9</a>\u001b[0m \u001b[39mAn asset type can only be one of: species, approach, variables_measured, measurement_technique\u001b[39m\n\u001b[0;32m   (...)\u001b[0m\n\u001b[1;32m     <a href='vscode-notebook-cell:/Users/jai/dandi-search-response-ui/scripts/test_quantitative_search.ipynb#W3sZmlsZQ%3D%3D?line=17'>18</a>\u001b[0m \u001b[39m{query}\u001b[39;00m\n\u001b[1;32m     <a href='vscode-notebook-cell:/Users/jai/dandi-search-response-ui/scripts/test_quantitative_search.ipynb#W3sZmlsZQ%3D%3D?line=18'>19</a>\u001b[0m \u001b[39m\"\"\"\u001b[39m\n\u001b[0;32m---> <a href='vscode-notebook-cell:/Users/jai/dandi-search-response-ui/scripts/test_quantitative_search.ipynb#W3sZmlsZQ%3D%3D?line=19'>20</a>\u001b[0m prompt \u001b[39m=\u001b[39m PromptTemplate(input_variables\u001b[39m=\u001b[39;49m[\u001b[39m\"\u001b[39;49m\u001b[39mquery\u001b[39;49m\u001b[39m\"\u001b[39;49m], template\u001b[39m=\u001b[39;49mtemplate)\n\u001b[1;32m     <a href='vscode-notebook-cell:/Users/jai/dandi-search-response-ui/scripts/test_quantitative_search.ipynb#W3sZmlsZQ%3D%3D?line=20'>21</a>\u001b[0m llm \u001b[39m=\u001b[39m OpenAI(model\u001b[39m=\u001b[39m\u001b[39m\"\u001b[39m\u001b[39mgpt-3.5-turbo\u001b[39m\u001b[39m\"\u001b[39m, max_tokens\u001b[39m=\u001b[39m\u001b[39m200\u001b[39m, temperature\u001b[39m=\u001b[39m\u001b[39m0\u001b[39m)\n\u001b[1;32m     <a href='vscode-notebook-cell:/Users/jai/dandi-search-response-ui/scripts/test_quantitative_search.ipynb#W3sZmlsZQ%3D%3D?line=21'>22</a>\u001b[0m chain \u001b[39m=\u001b[39m LLMChain(llm\u001b[39m=\u001b[39mllm, prompt\u001b[39m=\u001b[39mprompt)\n",
      "File \u001b[0;32m~/dandi-search-response-ui/dandivenv/lib/python3.11/site-packages/langchain/load/serializable.py:97\u001b[0m, in \u001b[0;36mSerializable.__init__\u001b[0;34m(self, **kwargs)\u001b[0m\n\u001b[1;32m     96\u001b[0m \u001b[39mdef\u001b[39;00m \u001b[39m__init__\u001b[39m(\u001b[39mself\u001b[39m, \u001b[39m*\u001b[39m\u001b[39m*\u001b[39mkwargs: Any) \u001b[39m-\u001b[39m\u001b[39m>\u001b[39m \u001b[39mNone\u001b[39;00m:\n\u001b[0;32m---> 97\u001b[0m     \u001b[39msuper\u001b[39;49m()\u001b[39m.\u001b[39;49m\u001b[39m__init__\u001b[39;49m(\u001b[39m*\u001b[39;49m\u001b[39m*\u001b[39;49mkwargs)\n\u001b[1;32m     98\u001b[0m     \u001b[39mself\u001b[39m\u001b[39m.\u001b[39m_lc_kwargs \u001b[39m=\u001b[39m kwargs\n",
      "File \u001b[0;32m~/dandi-search-response-ui/dandivenv/lib/python3.11/site-packages/pydantic/main.py:341\u001b[0m, in \u001b[0;36mpydantic.main.BaseModel.__init__\u001b[0;34m()\u001b[0m\n",
      "\u001b[0;31mValidationError\u001b[0m: 1 validation error for PromptTemplate\n__root__\n  Invalid prompt schema; check for mismatched or missing input parameters. \"\\n    'number_of_asset'\" (type=value_error)"
     ]
    }
   ],
   "source": [
    "# Approach #2: LLM\n",
    "\n",
    "from langchain.prompts import PromptTemplate\n",
    "from langchain.llms.openai import OpenAI\n",
    "from langchain.chains import LLMChain\n",
    "\n",
    "template = \"\"\"\n",
    "Your task is to extract a numerical value that represents a specific asset along with the asset type itself from a given user query.\n",
    "An asset type can only be one of: species, approach, variables_measured, measurement_technique\n",
    "\n",
    "JSON Output Format:\n",
    "{\n",
    "    'number_of_asset': [int - numerical value],\n",
    "    'asset_type': [string - type of asset]\n",
    "}\n",
    "\n",
    "USER QUERY:\n",
    "{query}\n",
    "\"\"\"\n",
    "prompt = PromptTemplate(input_variables=[\"query\"], template=template)\n",
    "llm = OpenAI(model=\"gpt-3.5-turbo\", max_tokens=200, temperature=0)\n",
    "chain = LLMChain(llm=llm, prompt=prompt)\n",
    "response = chain.run(query)\n",
    "print(response)"
   ]
  },
  {
   "cell_type": "code",
   "execution_count": 30,
   "metadata": {},
   "outputs": [
    {
     "name": "stdout",
     "output_type": "stream",
     "text": [
      "No relevant dandisets found.\n"
     ]
    }
   ],
   "source": [
    "# qdrant client\n",
    "qdrant_client = Qdrant(\n",
    "    location=\"https://906c3b3f-d3ff-4497-905f-2d7089487cf9.us-east4-0.gcp.cloud.qdrant.io\", \n",
    "    port=\"6333\",\n",
    "    api_key=os.environ.get(\"QDRANT_API_KEY\"),\n",
    ")\n",
    "\n",
    "# filter\n",
    "num_asset: int = extracted[0].get(\"number_of_asset\", None)\n",
    "asset_type: str = extracted[0].get(\"asset_type\", None)\n",
    "\n",
    "if not num_asset or not asset_type:\n",
    "    import sys\n",
    "    print(\"Extraction chain empty.\")\n",
    "    sys.exit(0)\n",
    "\n",
    "species_keywords = [\"species\", \"specie\", \"animals\", \"animal\"]\n",
    "if any(kw == asset_type.strip() for kw in species_keywords):\n",
    "    key = \"number_of_species\"\n",
    "\n",
    "comparison_operator = extracted[0].get(\"comparison_operator\", None)\n",
    "gt_keywords = [\"more\", \"greater than\"]\n",
    "lt_keywords = [\"less\", \"less than\"]\n",
    "gte_keywords = [\"at least\", \"or more\"]\n",
    "lte_keywords = []\n",
    "if comparison_operator:\n",
    "    if any(kw == comparison_operator.strip() for kw in gt_keywords):\n",
    "        # more\n",
    "        pass\n",
    "    elif any(kw == comparison_operator.strip() for kw in lt_keywords):\n",
    "        # less\n",
    "        pass\n",
    "else:\n",
    "    match = models.MatchValue(value=num_asset)\n",
    "    models.Match\n",
    "\n",
    "\n",
    "filter = models.Filter(\n",
    "    must=[\n",
    "        models.FieldCondition(key=key, match=models.MatchValue(value=num_asset)),\n",
    "    ]\n",
    ")\n",
    "\n",
    "# query similar results based on filter\n",
    "docs = qdrant_client.scroll(\"dandi_collection_ada002\", scroll_filter=filter, limit=5, with_vectors=False, with_payload=True)[0]\n",
    "if not docs:\n",
    "    print(\"No relevant dandisets found.\")\n",
    "else:\n",
    "    for doc in docs:\n",
    "        pl = doc.payload\n",
    "        print(f\"DANDI:{pl['dandiset_id']}/{pl['dandiset_version']}\")\n",
    "        for item in pl[\"species\"]:\n",
    "            print(f\"- {item}\")\n",
    "        print(\"\\n\")"
   ]
  }
 ],
 "metadata": {
  "kernelspec": {
   "display_name": "dandivenv",
   "language": "python",
   "name": "python3"
  },
  "language_info": {
   "codemirror_mode": {
    "name": "ipython",
    "version": 3
   },
   "file_extension": ".py",
   "mimetype": "text/x-python",
   "name": "python",
   "nbconvert_exporter": "python",
   "pygments_lexer": "ipython3",
   "version": "3.11.6"
  }
 },
 "nbformat": 4,
 "nbformat_minor": 2
}
